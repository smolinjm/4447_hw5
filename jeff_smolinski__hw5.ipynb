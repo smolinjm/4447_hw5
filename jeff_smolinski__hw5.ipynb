{
 "cells": [
  {
   "cell_type": "markdown",
   "metadata": {},
   "source": [
    "<br><br><br>Jeff Smolinski<br>\n",
    "10/13/2020<br>\n",
    "Homework 5"
   ]
  },
  {
   "cell_type": "markdown",
   "metadata": {},
   "source": [
    "# Web scrapping for Data Scientist job in CO(Total points 9)"
   ]
  },
  {
   "cell_type": "markdown",
   "metadata": {},
   "source": [
    "In this exercise we'll do web scrapping for **Data Scientist job in CO**\n",
    "\n",
    "\n",
    "Here is the link to the search query\n",
    "\n",
    "https://www.indeed.com/jobs?q=data+scientist&l=CO\n",
    "\n",
    "As you can see at the bottom of the page there are link to series of pages related to this search.\n",
    "If you click on second page, search url changes to\n",
    "\n",
    "https://www.indeed.com/jobs?q=data+scientist&l=CO<br>\n",
    "https://www.indeed.com/jobs?q=data+scientist&l=CO&start=10<br>\n",
    "https://www.indeed.com/jobs?q=data+scientist&l=CO&start=20<br>\n",
    "https://www.indeed.com/jobs?q=data+scientist&l=CO&start=30<br>\n",
    "https://www.indeed.com/jobs?q=data+scientist&l=CO&start=40<br>\n",
    "https://www.indeed.com/jobs?q=data+scientist&l=CO&start=50<br>\n",
    "https://www.indeed.com/jobs?q=data+scientist&l=CO&start=60<br>\n",
    "https://www.indeed.com/jobs?q=data+scientist&l=CO&start=70<br>\n",
    "https://www.indeed.com/jobs?q=data+scientist&l=CO&start=80<br>\n",
    "\n",
    "If you click on 3rd then url changes to\n",
    "\n",
    "https://www.indeed.com/jobs?q=data+scientist&l=CO&start=20\n",
    "\n",
    "Hence to go to more pages we can format search string(**change start=??** part) for **requests.get in a loop**\n"
   ]
  },
  {
   "cell_type": "code",
   "execution_count": 5,
   "metadata": {},
   "outputs": [],
   "source": [
    "#!curl https://www.indeed.com/robot.txt\n",
    "# FILE NOT FOUND"
   ]
  },
  {
   "cell_type": "code",
   "execution_count": 1,
   "metadata": {},
   "outputs": [
    {
     "data": {
      "text/plain": [
       "True"
      ]
     },
     "execution_count": 1,
     "metadata": {},
     "output_type": "execute_result"
    }
   ],
   "source": [
    "#import urllib\n",
    "#import urllib3\n",
    "#http = urllib3.PoolManager()\n",
    "#r = http.request('GET', 'http://indeed.com/robots.txt')\n",
    "#r.status\n",
    "\n",
    "import urllib.robotparser\n",
    "\n",
    "\n",
    "rp = urllib.robotparser.RobotFileParser()\n",
    "rp.set_url('https://www.indeed.com/robot.txt')\n",
    "rp.read()\n",
    "rp.can_fetch('*','https://www.indeed.com/jobs?q=data+scientist&l=CO')\n",
    "\n"
   ]
  },
  {
   "cell_type": "code",
   "execution_count": 2,
   "metadata": {},
   "outputs": [
    {
     "name": "stdout",
     "output_type": "stream",
     "text": [
      "0\n",
      "1\n",
      "2\n",
      "3\n",
      "4\n",
      "5\n",
      "6\n",
      "7\n",
      "8\n"
     ]
    }
   ],
   "source": [
    "from bs4 import BeautifulSoup as bsoup\n",
    "import requests\n",
    "import pandas as pd\n",
    "\n",
    "pages = []\n",
    "url = 'https://www.indeed.com/jobs?q=data+scientist&l=CO'\n",
    "url2 = 'https://www.indeed.com/jobs?q=data+scientist&l=CO&start='\n",
    "\n",
    "\n",
    "response = requests.get(url)\n",
    "soup = bsoup(response.text, \"html.parser\")\n",
    "pages.append(soup.find(id='resultsCol'))\n",
    "print(0)\n",
    "\n",
    "for i in range(1,9):\n",
    "    \n",
    "    response = requests.get(url2+str(i*10))\n",
    "    #print(response)\n",
    "    soup = bsoup(response.text, \"html.parser\")\n",
    "    #html = open(url2+str(i*10)).read()\n",
    "    #soup = bsoup(html)\n",
    "    pages.append(soup.find(id='resultsCol'))\n",
    "    print(i)\n",
    "    \n",
    "    \n",
    "\n"
   ]
  },
  {
   "cell_type": "markdown",
   "metadata": {},
   "source": [
    "# Q1 (5 =  4(non indicator columns) + 1(indicator columns) points) Please complete the following task\n",
    "\n",
    "- Scrape 10 pages (**last page(10 th) url will be https://www.indeed.com/jobs?q=data+scientist&l=CO&start=90**)and build a pandas DataFrame containing following information\n",
    "    + **job title, name of the company, location, summary of job description**\n",
    "    + **Indicator columns(with value True/False) about keywords Python, SQL, AWS, RESTFUL, Machine learning, Deep Learning, Text Mining, NLP, SAS, Tableau, Sagemaker, TensorFlow, Spark**\n",
    "\n",
    "Note:\n",
    "- Make sure that you do a case insensitive search for keywords when filing(True/False) in the indicator columns\n",
    "- You need to go to the webpage of detail job posting for keywords search. Main job posting only contains summary of the job description.  Build detail job posting webpage url  from web scrapping main search results."
   ]
  },
  {
   "cell_type": "code",
   "execution_count": 186,
   "metadata": {},
   "outputs": [
    {
     "name": "stdout",
     "output_type": "stream",
     "text": [
      "RUNNING... 0  len\n",
      "Page:  1\n",
      "Page:  2\n",
      "Page:  3\n",
      "Page:  4\n",
      "Page:  5\n",
      "Page:  6\n",
      "Page:  7\n",
      "Page:  8\n",
      "Page:  9\n",
      "done.\n"
     ]
    }
   ],
   "source": [
    "df_all = pd.DataFrame()\n",
    "print('RUNNING...', len(df_all),' len')\n",
    "\n",
    "count = 0\n",
    "for page_soup in pages:\n",
    "    df = pd.DataFrame()\n",
    "    #job_titles_obj = page_soup.find_all('a',{'class':'jobtitle'})\n",
    "    job_titles = []\n",
    "    company_names = []\n",
    "    locations = []\n",
    "    summaries = []\n",
    "    descriptions = []\n",
    "    #for job in page_soup.find_all('h2',{'class':'title'}):jobsearch-SerpJobCard\n",
    "    \n",
    "    for job in page_soup.find_all('div',{'class':'jobsearch-SerpJobCard'}):\n",
    "        title = job.find('a',{'class':'jobtitle'})\n",
    "        job_titles.append(title.get('title'))\n",
    "        comp_name = job.find('span',{'class':'company'})\n",
    "        company_names.append(comp_name.text.strip())\n",
    "        loca = job.find('div',{'class':'location'})\n",
    "        if loca == None:\n",
    "            loca = job.find('span',{'class':'location'})\n",
    "        locations.append(loca.text.strip())\n",
    "        \n",
    "        summary_obj = job.find('div',{'class':'summary'})\n",
    "        summaries.append(summary_obj)\n",
    "        \n",
    "        url_des = title.get('href')\n",
    "        result = url_des.find('indeed.com')\n",
    "        if result == -1:\n",
    "            url_des = 'https://www.indeed.com'+url_des\n",
    "        #print(url_des)\n",
    "        response = requests.get(url_des)\n",
    "        soup = bsoup(response.text, \"html.parser\")\n",
    "        temp = soup.find(id='jobDescriptionText')\n",
    "        descriptions.append(temp.text.strip())\n",
    "        \n",
    "    count += 1\n",
    "    print('Page: ',count)\n",
    "        \n",
    "        \n",
    "        \n",
    "    #print(job_titles)\n",
    "    df['job_title'] = job_titles\n",
    "    #print(company_names)\n",
    "    df['company_name'] = company_names\n",
    "    #print(locations)\n",
    "    df['location'] = locations\n",
    "    df['summary'] = summaries\n",
    "    \n",
    "    df['description'] = descriptions\n",
    "    # ----\n",
    "    '''\n",
    "    #company_name_obj = page_soup.find_all('a',{'data-tn-element':'companyName'})\n",
    "    company_names = []\n",
    "    for name in page_soup.find_all('span',{'class':'company'}):\n",
    "        company_names.append(name.text.strip())\n",
    "    \n",
    "    print(company_names)\n",
    "    df['company_name'] = company_names\n",
    "    '''\n",
    "    # ----\n",
    "    '''\n",
    "    #location_obj = page_soup.find_all('span',{'class':'location'})\n",
    "    locations = []\n",
    "    for loca in page_soup.find_all('span',{'class':'location'}):\n",
    "        locations.append(loca.text.strip())\n",
    "    \n",
    "    print(locations)\n",
    "    df['location'] = locations\n",
    "    '''\n",
    "    # -----\n",
    "    '''\n",
    "    #sum_divs = page_soup.find_all()\n",
    "    sum_lis = []\n",
    "    for sum_div in page_soup.find_all('div',{'class':'summary'}):\n",
    "        sum_lis.append(sum_div.find('li').contents[0])\n",
    "    \n",
    "    summary = '\\n'.join(sum_lis)\n",
    "    df['summary'] = summary\n",
    "    '''\n",
    "    #df\n",
    "    #print(df)\n",
    "    \n",
    "    if len(df_all) == 0:\n",
    "        df_all = pd.DataFrame(df)\n",
    "        #print(df_all)\n",
    "    else:\n",
    "        #pd.merge(df_all,df, left_on='none', how='left')\n",
    "        df_all = pd.concat([df_all, df], ignore_index=True)\n",
    "    #df_all\n",
    "    \n",
    "    \n",
    "#df_all.head(3)\n",
    "print('done.')\n",
    "#print(df_all)"
   ]
  },
  {
   "cell_type": "code",
   "execution_count": 253,
   "metadata": {},
   "outputs": [
    {
     "data": {
      "text/html": [
       "<div>\n",
       "<style scoped>\n",
       "    .dataframe tbody tr th:only-of-type {\n",
       "        vertical-align: middle;\n",
       "    }\n",
       "\n",
       "    .dataframe tbody tr th {\n",
       "        vertical-align: top;\n",
       "    }\n",
       "\n",
       "    .dataframe thead th {\n",
       "        text-align: right;\n",
       "    }\n",
       "</style>\n",
       "<table border=\"1\" class=\"dataframe\">\n",
       "  <thead>\n",
       "    <tr style=\"text-align: right;\">\n",
       "      <th></th>\n",
       "      <th>job_title</th>\n",
       "      <th>company_name</th>\n",
       "      <th>location</th>\n",
       "      <th>summary</th>\n",
       "      <th>description</th>\n",
       "    </tr>\n",
       "  </thead>\n",
       "  <tbody>\n",
       "    <tr>\n",
       "      <th>29</th>\n",
       "      <td>Decision Scientist, CPG Analytics</td>\n",
       "      <td>Ibotta</td>\n",
       "      <td>Denver, CO 80202 (Central Business District area)</td>\n",
       "      <td>[\\n, [\\n, [With over 50 people, Ibotta's Analy...</td>\n",
       "      <td>Would you like to be part of an industry-leadi...</td>\n",
       "    </tr>\n",
       "    <tr>\n",
       "      <th>110</th>\n",
       "      <td>Senior Data Analyst for Product</td>\n",
       "      <td>CircleCI</td>\n",
       "      <td>Colorado</td>\n",
       "      <td>[\\n, [\\n, [Define requirements for , &lt;b&gt;data&lt;/...</td>\n",
       "      <td>As a Senior Data Analyst for Product at Circle...</td>\n",
       "    </tr>\n",
       "    <tr>\n",
       "      <th>111</th>\n",
       "      <td>DATA SCIENTIST MANAGER</td>\n",
       "      <td>JBS USA Food Company</td>\n",
       "      <td>Greeley, CO</td>\n",
       "      <td>[\\n, [\\n, [Solid technical hands-on skills in ...</td>\n",
       "      <td>JBS USA is a leading global provider of divers...</td>\n",
       "    </tr>\n",
       "    <tr>\n",
       "      <th>46</th>\n",
       "      <td>Data Scientist</td>\n",
       "      <td>CACI</td>\n",
       "      <td>Denver, CO 80225</td>\n",
       "      <td>[\\n, [\\n, [Apply , &lt;b&gt;data&lt;/b&gt;,  mining, , &lt;b&gt;...</td>\n",
       "      <td>Job Description\\nWhat You’ll Get to Do\\nBe par...</td>\n",
       "    </tr>\n",
       "    <tr>\n",
       "      <th>2</th>\n",
       "      <td>Data Scientist</td>\n",
       "      <td>TCS</td>\n",
       "      <td>Broomfield, CO</td>\n",
       "      <td>[\\n, [\\n, [ merge , &lt;b&gt;data&lt;/b&gt;,  sources; en...</td>\n",
       "      <td>GRS # 162897\\n\\n\\nRole: Data Scientist\\n\\n\\nLo...</td>\n",
       "    </tr>\n",
       "    <tr>\n",
       "      <th>21</th>\n",
       "      <td>DATA SCIENTIST</td>\n",
       "      <td>Decentrix</td>\n",
       "      <td>Denver, CO 80202 (Central Business District area)</td>\n",
       "      <td>[\\n, [\\n, [Collaborate with a team of software...</td>\n",
       "      <td>Decentrix offers an exciting opportunity to in...</td>\n",
       "    </tr>\n",
       "    <tr>\n",
       "      <th>37</th>\n",
       "      <td>Data Scientist</td>\n",
       "      <td>Maven Wave Partners</td>\n",
       "      <td>Denver, CO</td>\n",
       "      <td>[\\n, [\\n, [Aptitude - You have an innate capac...</td>\n",
       "      <td>Who We Are!\\nAt Maven Wave, an Atos Company, w...</td>\n",
       "    </tr>\n",
       "    <tr>\n",
       "      <th>81</th>\n",
       "      <td>DATA SCIENTIST MANAGER</td>\n",
       "      <td>JBS USA Food Company</td>\n",
       "      <td>Greeley, CO</td>\n",
       "      <td>[\\n, [\\n, [Solid technical hands-on skills in ...</td>\n",
       "      <td>JBS USA is a leading global provider of divers...</td>\n",
       "    </tr>\n",
       "    <tr>\n",
       "      <th>114</th>\n",
       "      <td>Sr. Statistician</td>\n",
       "      <td>Numerator</td>\n",
       "      <td>Denver, CO</td>\n",
       "      <td>[\\n, [\\n, [Working with the survey research te...</td>\n",
       "      <td>Numerator is a data and technology company rei...</td>\n",
       "    </tr>\n",
       "    <tr>\n",
       "      <th>68</th>\n",
       "      <td>NLP researcher</td>\n",
       "      <td>Comcast</td>\n",
       "      <td>Denver, CO 80202 (Lodo area)</td>\n",
       "      <td>[\\n, [\\n, [Apply scientific knowledge in NLP a...</td>\n",
       "      <td>Business Unit:\\nNLP Researcher – Comcast Appli...</td>\n",
       "    </tr>\n",
       "  </tbody>\n",
       "</table>\n",
       "</div>"
      ],
      "text/plain": [
       "                             job_title          company_name  \\\n",
       "29   Decision Scientist, CPG Analytics                Ibotta   \n",
       "110    Senior Data Analyst for Product              CircleCI   \n",
       "111             DATA SCIENTIST MANAGER  JBS USA Food Company   \n",
       "46                      Data Scientist                  CACI   \n",
       "2                       Data Scientist                   TCS   \n",
       "21                      DATA SCIENTIST             Decentrix   \n",
       "37                      Data Scientist   Maven Wave Partners   \n",
       "81              DATA SCIENTIST MANAGER  JBS USA Food Company   \n",
       "114                   Sr. Statistician             Numerator   \n",
       "68                      NLP researcher               Comcast   \n",
       "\n",
       "                                              location  \\\n",
       "29   Denver, CO 80202 (Central Business District area)   \n",
       "110                                           Colorado   \n",
       "111                                        Greeley, CO   \n",
       "46                                    Denver, CO 80225   \n",
       "2                                       Broomfield, CO   \n",
       "21   Denver, CO 80202 (Central Business District area)   \n",
       "37                                          Denver, CO   \n",
       "81                                         Greeley, CO   \n",
       "114                                         Denver, CO   \n",
       "68                        Denver, CO 80202 (Lodo area)   \n",
       "\n",
       "                                               summary  \\\n",
       "29   [\\n, [\\n, [With over 50 people, Ibotta's Analy...   \n",
       "110  [\\n, [\\n, [Define requirements for , <b>data</...   \n",
       "111  [\\n, [\\n, [Solid technical hands-on skills in ...   \n",
       "46   [\\n, [\\n, [Apply , <b>data</b>,  mining, , <b>...   \n",
       "2    [\\n, [\\n, [ merge , <b>data</b>,  sources; en...   \n",
       "21   [\\n, [\\n, [Collaborate with a team of software...   \n",
       "37   [\\n, [\\n, [Aptitude - You have an innate capac...   \n",
       "81   [\\n, [\\n, [Solid technical hands-on skills in ...   \n",
       "114  [\\n, [\\n, [Working with the survey research te...   \n",
       "68   [\\n, [\\n, [Apply scientific knowledge in NLP a...   \n",
       "\n",
       "                                           description  \n",
       "29   Would you like to be part of an industry-leadi...  \n",
       "110  As a Senior Data Analyst for Product at Circle...  \n",
       "111  JBS USA is a leading global provider of divers...  \n",
       "46   Job Description\\nWhat You’ll Get to Do\\nBe par...  \n",
       "2    GRS # 162897\\n\\n\\nRole: Data Scientist\\n\\n\\nLo...  \n",
       "21   Decentrix offers an exciting opportunity to in...  \n",
       "37   Who We Are!\\nAt Maven Wave, an Atos Company, w...  \n",
       "81   JBS USA is a leading global provider of divers...  \n",
       "114  Numerator is a data and technology company rei...  \n",
       "68   Business Unit:\\nNLP Researcher – Comcast Appli...  "
      ]
     },
     "execution_count": 253,
     "metadata": {},
     "output_type": "execute_result"
    }
   ],
   "source": [
    "df_all.reset_index(drop=True) # fail\n",
    "df_all.reindex(axis=\"columns\")\n",
    "\n",
    "df_all.sample(10)\n"
   ]
  },
  {
   "cell_type": "code",
   "execution_count": 278,
   "metadata": {},
   "outputs": [],
   "source": [
    "df_2 = df_all.copy(deep=True)"
   ]
  },
  {
   "cell_type": "code",
   "execution_count": 279,
   "metadata": {},
   "outputs": [
    {
     "data": {
      "text/html": [
       "<div>\n",
       "<style scoped>\n",
       "    .dataframe tbody tr th:only-of-type {\n",
       "        vertical-align: middle;\n",
       "    }\n",
       "\n",
       "    .dataframe tbody tr th {\n",
       "        vertical-align: top;\n",
       "    }\n",
       "\n",
       "    .dataframe thead th {\n",
       "        text-align: right;\n",
       "    }\n",
       "</style>\n",
       "<table border=\"1\" class=\"dataframe\">\n",
       "  <thead>\n",
       "    <tr style=\"text-align: right;\">\n",
       "      <th></th>\n",
       "      <th>job_title</th>\n",
       "      <th>company_name</th>\n",
       "      <th>location</th>\n",
       "      <th>summary</th>\n",
       "      <th>description</th>\n",
       "    </tr>\n",
       "  </thead>\n",
       "  <tbody>\n",
       "    <tr>\n",
       "      <th>70</th>\n",
       "      <td>Senior Data Scientist</td>\n",
       "      <td>Prescient Edge Federal</td>\n",
       "      <td>Colorado Springs, CO 80914 (Powers area)</td>\n",
       "      <td>[\\n, [\\n, [A competitive salary with performan...</td>\n",
       "      <td>Job Description:\\n\\nPrescient Edge is seeking ...</td>\n",
       "    </tr>\n",
       "    <tr>\n",
       "      <th>108</th>\n",
       "      <td>GIS Data Analyst/Scientist, Task 6.9.2.4</td>\n",
       "      <td>Indrasoft</td>\n",
       "      <td>Aurora, CO</td>\n",
       "      <td>[\\n, [\\n, [Knowledge of , &lt;b&gt;data&lt;/b&gt;,  scienc...</td>\n",
       "      <td>Job Details\\nDescription\\nJob Title: GIS Data ...</td>\n",
       "    </tr>\n",
       "    <tr>\n",
       "      <th>69</th>\n",
       "      <td>Data Architect</td>\n",
       "      <td>Berkshire Hathaway Homestate Companies</td>\n",
       "      <td>Denver, CO 80237 (Southeastern Denver area)</td>\n",
       "      <td>[\\n, [\\n, [Defines governance and best practic...</td>\n",
       "      <td>WHO WE ARE:\\nBerkshire Hathaway Homestate Comp...</td>\n",
       "    </tr>\n",
       "  </tbody>\n",
       "</table>\n",
       "</div>"
      ],
      "text/plain": [
       "                                    job_title  \\\n",
       "70                      Senior Data Scientist   \n",
       "108  GIS Data Analyst/Scientist, Task 6.9.2.4   \n",
       "69                             Data Architect   \n",
       "\n",
       "                               company_name  \\\n",
       "70                   Prescient Edge Federal   \n",
       "108                               Indrasoft   \n",
       "69   Berkshire Hathaway Homestate Companies   \n",
       "\n",
       "                                        location  \\\n",
       "70      Colorado Springs, CO 80914 (Powers area)   \n",
       "108                                   Aurora, CO   \n",
       "69   Denver, CO 80237 (Southeastern Denver area)   \n",
       "\n",
       "                                               summary  \\\n",
       "70   [\\n, [\\n, [A competitive salary with performan...   \n",
       "108  [\\n, [\\n, [Knowledge of , <b>data</b>,  scienc...   \n",
       "69   [\\n, [\\n, [Defines governance and best practic...   \n",
       "\n",
       "                                           description  \n",
       "70   Job Description:\\n\\nPrescient Edge is seeking ...  \n",
       "108  Job Details\\nDescription\\nJob Title: GIS Data ...  \n",
       "69   WHO WE ARE:\\nBerkshire Hathaway Homestate Comp...  "
      ]
     },
     "execution_count": 279,
     "metadata": {},
     "output_type": "execute_result"
    }
   ],
   "source": [
    "df_2.sample(3)"
   ]
  },
  {
   "cell_type": "code",
   "execution_count": 256,
   "metadata": {},
   "outputs": [
    {
     "name": "stdout",
     "output_type": "stream",
     "text": [
      "['Python', 'SQL', 'AWS', 'RESTFUL', 'Machine learning', 'Deep Learning', 'Text Mining', 'NLP', 'SAS', 'Tableau', 'Sagemaker', 'TensorFlow', 'Spark']\n"
     ]
    }
   ],
   "source": [
    "keywords = 'Python, SQL, AWS, RESTFUL, Machine learning, Deep Learning, Text Mining, NLP, SAS, Tableau, Sagemaker, TensorFlow, Spark'\n",
    "\n",
    "keys = keywords.split(', ')\n",
    "#keys = [x.lower() for x in keys]\n",
    "print(keys)\n",
    "\n"
   ]
  },
  {
   "cell_type": "code",
   "execution_count": 190,
   "metadata": {},
   "outputs": [
    {
     "data": {
      "text/plain": [
       "0      Req #: 20-07349\\nTitle: Junior Data Scientist\\...\n",
       "1      Req #: 20-07348\\nTitle Data Scientist III\\nLoc...\n",
       "2      GRS # 162897\\n\\n\\nRole: Data Scientist\\n\\n\\nLo...\n",
       "3      Our client is a Data Analytics, a market leade...\n",
       "4      The coolest jobs on this planet… or any other…...\n",
       "                             ...                        \n",
       "127    Embedded Machine Learning Research Engineer\\nB...\n",
       "128    Artificial Intelligence, Senior Consultant – A...\n",
       "129    Artificial Intelligence, Consultant - Applied ...\n",
       "130    BS in Computer Science or related technical fi...\n",
       "131    Strategy & Analytics-Analytics and Cognitive\\n...\n",
       "Name: description, Length: 132, dtype: object"
      ]
     },
     "execution_count": 190,
     "metadata": {},
     "output_type": "execute_result"
    }
   ],
   "source": [
    "df_2.description"
   ]
  },
  {
   "cell_type": "code",
   "execution_count": 280,
   "metadata": {},
   "outputs": [
    {
     "name": "stdout",
     "output_type": "stream",
     "text": [
      "Python\n",
      "SQL\n",
      "AWS\n",
      "RESTFUL\n",
      "Machine_learning\n",
      "Deep_Learning\n",
      "Text_Mining\n",
      "NLP\n",
      "SAS\n",
      "Tableau\n",
      "Sagemaker\n",
      "TensorFlow\n",
      "Spark\n"
     ]
    }
   ],
   "source": [
    "\n",
    "for k in keys:\n",
    "    strs = df_2.description\n",
    "    x = []\n",
    "    #for i in strs:\n",
    "        #x.append(i.str.contains(k, na=False, case=False))\n",
    "    x = strs.str.contains(str(k), na=False, case=False)\n",
    "    kk = k.replace(' ','_')\n",
    "    print(kk)\n",
    "    df_2[kk] = x\n",
    "    \n",
    "    "
   ]
  },
  {
   "cell_type": "code",
   "execution_count": 281,
   "metadata": {},
   "outputs": [
    {
     "data": {
      "text/html": [
       "<div>\n",
       "<style scoped>\n",
       "    .dataframe tbody tr th:only-of-type {\n",
       "        vertical-align: middle;\n",
       "    }\n",
       "\n",
       "    .dataframe tbody tr th {\n",
       "        vertical-align: top;\n",
       "    }\n",
       "\n",
       "    .dataframe thead th {\n",
       "        text-align: right;\n",
       "    }\n",
       "</style>\n",
       "<table border=\"1\" class=\"dataframe\">\n",
       "  <thead>\n",
       "    <tr style=\"text-align: right;\">\n",
       "      <th></th>\n",
       "      <th>job_title</th>\n",
       "      <th>company_name</th>\n",
       "      <th>location</th>\n",
       "      <th>summary</th>\n",
       "      <th>description</th>\n",
       "      <th>Python</th>\n",
       "      <th>SQL</th>\n",
       "      <th>AWS</th>\n",
       "      <th>RESTFUL</th>\n",
       "      <th>Machine_learning</th>\n",
       "      <th>Deep_Learning</th>\n",
       "      <th>Text_Mining</th>\n",
       "      <th>NLP</th>\n",
       "      <th>SAS</th>\n",
       "      <th>Tableau</th>\n",
       "      <th>Sagemaker</th>\n",
       "      <th>TensorFlow</th>\n",
       "      <th>Spark</th>\n",
       "    </tr>\n",
       "  </thead>\n",
       "  <tbody>\n",
       "    <tr>\n",
       "      <th>126</th>\n",
       "      <td>Senior Data Platform Engineer</td>\n",
       "      <td>IHS Markit</td>\n",
       "      <td>Englewood, CO 80112</td>\n",
       "      <td>[\\n, [\\n, [Excited to build , &lt;b&gt;data&lt;/b&gt;,  pl...</td>\n",
       "      <td>Senior Data Platform Engineer\\nAbout Us\\nAt IH...</td>\n",
       "      <td>True</td>\n",
       "      <td>True</td>\n",
       "      <td>True</td>\n",
       "      <td>False</td>\n",
       "      <td>False</td>\n",
       "      <td>False</td>\n",
       "      <td>False</td>\n",
       "      <td>False</td>\n",
       "      <td>False</td>\n",
       "      <td>False</td>\n",
       "      <td>False</td>\n",
       "      <td>False</td>\n",
       "      <td>True</td>\n",
       "    </tr>\n",
       "    <tr>\n",
       "      <th>122</th>\n",
       "      <td>Senior Data Scientist</td>\n",
       "      <td>Perspecta</td>\n",
       "      <td>Colorado Springs, CO</td>\n",
       "      <td>[\\n, [\\n, [Experience with machine learning, a...</td>\n",
       "      <td>Business Group Highlights\\n\\n\\nDefense\\nThe De...</td>\n",
       "      <td>True</td>\n",
       "      <td>False</td>\n",
       "      <td>False</td>\n",
       "      <td>False</td>\n",
       "      <td>True</td>\n",
       "      <td>False</td>\n",
       "      <td>False</td>\n",
       "      <td>False</td>\n",
       "      <td>False</td>\n",
       "      <td>False</td>\n",
       "      <td>False</td>\n",
       "      <td>False</td>\n",
       "      <td>False</td>\n",
       "    </tr>\n",
       "    <tr>\n",
       "      <th>38</th>\n",
       "      <td>Senior Data Scientist</td>\n",
       "      <td>Operating Company ACTIVISION PUBLISHING, INC</td>\n",
       "      <td>Boulder, CO</td>\n",
       "      <td>[\\n, [\\n, [Advanced analytics and SQL skills.]...</td>\n",
       "      <td>The Senior Data Scientist will develop and ope...</td>\n",
       "      <td>True</td>\n",
       "      <td>True</td>\n",
       "      <td>True</td>\n",
       "      <td>False</td>\n",
       "      <td>True</td>\n",
       "      <td>True</td>\n",
       "      <td>False</td>\n",
       "      <td>False</td>\n",
       "      <td>False</td>\n",
       "      <td>False</td>\n",
       "      <td>False</td>\n",
       "      <td>False</td>\n",
       "      <td>True</td>\n",
       "    </tr>\n",
       "  </tbody>\n",
       "</table>\n",
       "</div>"
      ],
      "text/plain": [
       "                         job_title  \\\n",
       "126  Senior Data Platform Engineer   \n",
       "122          Senior Data Scientist   \n",
       "38           Senior Data Scientist   \n",
       "\n",
       "                                     company_name              location  \\\n",
       "126                                    IHS Markit   Englewood, CO 80112   \n",
       "122                                     Perspecta  Colorado Springs, CO   \n",
       "38   Operating Company ACTIVISION PUBLISHING, INC           Boulder, CO   \n",
       "\n",
       "                                               summary  \\\n",
       "126  [\\n, [\\n, [Excited to build , <b>data</b>,  pl...   \n",
       "122  [\\n, [\\n, [Experience with machine learning, a...   \n",
       "38   [\\n, [\\n, [Advanced analytics and SQL skills.]...   \n",
       "\n",
       "                                           description  Python    SQL    AWS  \\\n",
       "126  Senior Data Platform Engineer\\nAbout Us\\nAt IH...    True   True   True   \n",
       "122  Business Group Highlights\\n\\n\\nDefense\\nThe De...    True  False  False   \n",
       "38   The Senior Data Scientist will develop and ope...    True   True   True   \n",
       "\n",
       "     RESTFUL  Machine_learning  Deep_Learning  Text_Mining    NLP    SAS  \\\n",
       "126    False             False          False        False  False  False   \n",
       "122    False              True          False        False  False  False   \n",
       "38     False              True           True        False  False  False   \n",
       "\n",
       "     Tableau  Sagemaker  TensorFlow  Spark  \n",
       "126    False      False       False   True  \n",
       "122    False      False       False  False  \n",
       "38     False      False       False   True  "
      ]
     },
     "execution_count": 281,
     "metadata": {},
     "output_type": "execute_result"
    }
   ],
   "source": [
    "df_2.sample(3)"
   ]
  },
  {
   "cell_type": "code",
   "execution_count": 260,
   "metadata": {},
   "outputs": [
    {
     "data": {
      "text/plain": [
       "True     84\n",
       "False    48\n",
       "Name: Machine_learning, dtype: int64"
      ]
     },
     "execution_count": 260,
     "metadata": {},
     "output_type": "execute_result"
    }
   ],
   "source": [
    "#df_2['Machine_learning'][60:90]\n",
    "df_2['Machine_learning'].value_counts()\n",
    "#df_2.loc[df_2['Machine_learning'] == True]"
   ]
  },
  {
   "cell_type": "markdown",
   "metadata": {},
   "source": [
    "# Q2 (1 point) Save your DataFrame to pickle file name *indeed_job_co.pkl*. \n",
    "   Load this pkl file in dataFrame and use this dataFrame for answering following questions.\n",
    "\n",
    "   <font color='red'>upload the pickle file(indeed_job_co.pkl) along with solution notebook to the canvas</font>"
   ]
  },
  {
   "cell_type": "code",
   "execution_count": 282,
   "metadata": {},
   "outputs": [],
   "source": [
    "#write code here\n",
    "import pickle\n",
    "import sys\n",
    "sys.setrecursionlimit(100000)\n",
    "df_2.to_pickle(\"./indeed_job_co.pkl\") #potentially_malicious.pkl"
   ]
  },
  {
   "cell_type": "code",
   "execution_count": 283,
   "metadata": {},
   "outputs": [],
   "source": [
    "df_loaded2 = pd.read_pickle(\"./indeed_job_co.pkl\")"
   ]
  },
  {
   "cell_type": "code",
   "execution_count": 284,
   "metadata": {},
   "outputs": [
    {
     "data": {
      "text/html": [
       "<div>\n",
       "<style scoped>\n",
       "    .dataframe tbody tr th:only-of-type {\n",
       "        vertical-align: middle;\n",
       "    }\n",
       "\n",
       "    .dataframe tbody tr th {\n",
       "        vertical-align: top;\n",
       "    }\n",
       "\n",
       "    .dataframe thead th {\n",
       "        text-align: right;\n",
       "    }\n",
       "</style>\n",
       "<table border=\"1\" class=\"dataframe\">\n",
       "  <thead>\n",
       "    <tr style=\"text-align: right;\">\n",
       "      <th></th>\n",
       "      <th>job_title</th>\n",
       "      <th>company_name</th>\n",
       "      <th>location</th>\n",
       "      <th>summary</th>\n",
       "      <th>description</th>\n",
       "      <th>Python</th>\n",
       "      <th>SQL</th>\n",
       "      <th>AWS</th>\n",
       "      <th>RESTFUL</th>\n",
       "      <th>Machine_learning</th>\n",
       "      <th>Deep_Learning</th>\n",
       "      <th>Text_Mining</th>\n",
       "      <th>NLP</th>\n",
       "      <th>SAS</th>\n",
       "      <th>Tableau</th>\n",
       "      <th>Sagemaker</th>\n",
       "      <th>TensorFlow</th>\n",
       "      <th>Spark</th>\n",
       "    </tr>\n",
       "  </thead>\n",
       "  <tbody>\n",
       "    <tr>\n",
       "      <th>105</th>\n",
       "      <td>Machine Learning Engineer</td>\n",
       "      <td>FlexJobs</td>\n",
       "      <td>Colorado</td>\n",
       "      <td>[\\n, [\\n, [3-5 Years Experience with NLP techn...</td>\n",
       "      <td>Who We Are\\nIn the past 13 years, FlexJobs has...</td>\n",
       "      <td>True</td>\n",
       "      <td>True</td>\n",
       "      <td>True</td>\n",
       "      <td>False</td>\n",
       "      <td>True</td>\n",
       "      <td>True</td>\n",
       "      <td>False</td>\n",
       "      <td>True</td>\n",
       "      <td>False</td>\n",
       "      <td>False</td>\n",
       "      <td>False</td>\n",
       "      <td>True</td>\n",
       "      <td>False</td>\n",
       "    </tr>\n",
       "    <tr>\n",
       "      <th>117</th>\n",
       "      <td>Junior Data Scientist</td>\n",
       "      <td>Ascent Services Group</td>\n",
       "      <td>Denver, CO 80246 (Southeastern Denver area)</td>\n",
       "      <td>[\\n, [\\n, [There is typically several back and...</td>\n",
       "      <td>Req #: 20-07349\\nTitle: Junior Data Scientist\\...</td>\n",
       "      <td>False</td>\n",
       "      <td>True</td>\n",
       "      <td>False</td>\n",
       "      <td>False</td>\n",
       "      <td>False</td>\n",
       "      <td>False</td>\n",
       "      <td>False</td>\n",
       "      <td>False</td>\n",
       "      <td>True</td>\n",
       "      <td>False</td>\n",
       "      <td>False</td>\n",
       "      <td>False</td>\n",
       "      <td>False</td>\n",
       "    </tr>\n",
       "  </tbody>\n",
       "</table>\n",
       "</div>"
      ],
      "text/plain": [
       "                     job_title           company_name  \\\n",
       "105  Machine Learning Engineer               FlexJobs   \n",
       "117      Junior Data Scientist  Ascent Services Group   \n",
       "\n",
       "                                        location  \\\n",
       "105                                     Colorado   \n",
       "117  Denver, CO 80246 (Southeastern Denver area)   \n",
       "\n",
       "                                               summary  \\\n",
       "105  [\\n, [\\n, [3-5 Years Experience with NLP techn...   \n",
       "117  [\\n, [\\n, [There is typically several back and...   \n",
       "\n",
       "                                           description  Python   SQL    AWS  \\\n",
       "105  Who We Are\\nIn the past 13 years, FlexJobs has...    True  True   True   \n",
       "117  Req #: 20-07349\\nTitle: Junior Data Scientist\\...   False  True  False   \n",
       "\n",
       "     RESTFUL  Machine_learning  Deep_Learning  Text_Mining    NLP    SAS  \\\n",
       "105    False              True           True        False   True  False   \n",
       "117    False             False          False        False  False   True   \n",
       "\n",
       "     Tableau  Sagemaker  TensorFlow  Spark  \n",
       "105    False      False        True  False  \n",
       "117    False      False       False  False  "
      ]
     },
     "execution_count": 284,
     "metadata": {},
     "output_type": "execute_result"
    }
   ],
   "source": [
    "df_loaded2.sample(2)\n",
    "\n",
    "#df_2 = df_loaded2"
   ]
  },
  {
   "cell_type": "markdown",
   "metadata": {},
   "source": [
    "<font size = \"6\" color='red'> Use pandas functionality to answer question 2</font>\n",
    "# Q3 a (1 point) Which city has maximum job posting.\n",
    "\n"
   ]
  },
  {
   "cell_type": "markdown",
   "metadata": {},
   "source": [
    "<b>ANSWER:</b> Denver, final answer."
   ]
  },
  {
   "cell_type": "code",
   "execution_count": 285,
   "metadata": {},
   "outputs": [],
   "source": [
    "df_2 = df_loaded2.copy(deep=True)"
   ]
  },
  {
   "cell_type": "code",
   "execution_count": 286,
   "metadata": {},
   "outputs": [
    {
     "data": {
      "text/plain": [
       "Denver, CO                                           30\n",
       "Boulder, CO                                          11\n",
       "Denver, CO 80202 (Central Business District area)     7\n",
       "Colorado                                              6\n",
       "Greeley, CO                                           5\n",
       "Denver, CO 80246 (Southeastern Denver area)           5\n",
       "Colorado Springs, CO                                  5\n",
       "Boulder, CO 80301                                     5\n",
       "Englewood, CO                                         4\n",
       "Aurora, CO                                            4\n",
       "Name: location, dtype: int64"
      ]
     },
     "execution_count": 286,
     "metadata": {},
     "output_type": "execute_result"
    }
   ],
   "source": [
    "df_2['location'].value_counts()[0:10]"
   ]
  },
  {
   "cell_type": "code",
   "execution_count": 287,
   "metadata": {},
   "outputs": [
    {
     "data": {
      "text/plain": [
       "Denver, CO                                           30\n",
       "Boulder, CO                                          11\n",
       "Denver, CO 80202 (Central Business District area)     7\n",
       "Name: location, dtype: int64"
      ]
     },
     "execution_count": 287,
     "metadata": {},
     "output_type": "execute_result"
    }
   ],
   "source": [
    "df_loaded2['location'].value_counts()[0:3]"
   ]
  },
  {
   "cell_type": "markdown",
   "metadata": {},
   "source": [
    "# Q3 b (1.5 point) - Top 3 most demanding skills(like Python, AWS, SQL ...)\n",
    "\n"
   ]
  },
  {
   "cell_type": "markdown",
   "metadata": {},
   "source": [
    "<b>ANSWER:</b> The top 3 skills are Machine Learning, Python, SQL."
   ]
  },
  {
   "cell_type": "code",
   "execution_count": 289,
   "metadata": {},
   "outputs": [
    {
     "name": "stdout",
     "output_type": "stream",
     "text": [
      "Python\n",
      "81\n",
      "SQL\n",
      "58\n",
      "AWS\n",
      "43\n",
      "RESTFUL\n",
      "3\n",
      "Machine_learning\n",
      "84\n",
      "Deep_Learning\n",
      "31\n",
      "Text_Mining\n",
      "3\n",
      "NLP\n",
      "16\n",
      "SAS\n",
      "15\n",
      "Tableau\n",
      "15\n",
      "Sagemaker\n",
      "10\n",
      "TensorFlow\n",
      "28\n",
      "Spark\n",
      "23\n"
     ]
    },
    {
     "data": {
      "text/html": [
       "<div>\n",
       "<style scoped>\n",
       "    .dataframe tbody tr th:only-of-type {\n",
       "        vertical-align: middle;\n",
       "    }\n",
       "\n",
       "    .dataframe tbody tr th {\n",
       "        vertical-align: top;\n",
       "    }\n",
       "\n",
       "    .dataframe thead th {\n",
       "        text-align: right;\n",
       "    }\n",
       "</style>\n",
       "<table border=\"1\" class=\"dataframe\">\n",
       "  <thead>\n",
       "    <tr style=\"text-align: right;\">\n",
       "      <th></th>\n",
       "      <th>skills</th>\n",
       "      <th>rank</th>\n",
       "    </tr>\n",
       "  </thead>\n",
       "  <tbody>\n",
       "    <tr>\n",
       "      <th>4</th>\n",
       "      <td>Machine_learning</td>\n",
       "      <td>84</td>\n",
       "    </tr>\n",
       "    <tr>\n",
       "      <th>0</th>\n",
       "      <td>Python</td>\n",
       "      <td>81</td>\n",
       "    </tr>\n",
       "    <tr>\n",
       "      <th>1</th>\n",
       "      <td>SQL</td>\n",
       "      <td>58</td>\n",
       "    </tr>\n",
       "  </tbody>\n",
       "</table>\n",
       "</div>"
      ],
      "text/plain": [
       "             skills  rank\n",
       "4  Machine_learning    84\n",
       "0            Python    81\n",
       "1               SQL    58"
      ]
     },
     "execution_count": 289,
     "metadata": {},
     "output_type": "execute_result"
    }
   ],
   "source": [
    "df_demand = pd.DataFrame()\n",
    "l1 = []\n",
    "l2 = []\n",
    "for i in df_loaded2.columns[5:]:\n",
    "    print(i)\n",
    "    #print(type(df_2[i].value_counts()))\n",
    "    #dx = df_loaded2[i].value_counts()\n",
    "    #dx.set_index([0], inplace=True)\n",
    "    #print(dx)\n",
    "    true_count = df_loaded2[i].sum()\n",
    "    print(true_count)\n",
    "    l1.append(i)\n",
    "    l2.append(true_count)\n",
    "    \n",
    "    #print(dx.loc['True'])\n",
    "    #print(df_2.loc[dx[i] == True].sum())\n",
    "    \n",
    "df_demand['skills'] = l1\n",
    "df_demand['rank'] = l2\n",
    "df_demand.sort_values(by=['rank'], ascending=False)[0:3]"
   ]
  },
  {
   "cell_type": "markdown",
   "metadata": {},
   "source": [
    "# Q3 c(.5 point) What other questions you would like to ask  based on indeed data?\n",
    "\n",
    "This is free response questions."
   ]
  },
  {
   "cell_type": "markdown",
   "metadata": {},
   "source": [
    "Can I find jobs by industry?<br>\n",
    "I would add Neural Networks, Artificial Inteligence, and Robotics to the skill list.<br>\n",
    "Looks like Salary information is rare... but there are occational links to salary pages for select job posting.<br><br>I could probably auto-post to all of these listings too."
   ]
  },
  {
   "cell_type": "code",
   "execution_count": null,
   "metadata": {},
   "outputs": [],
   "source": []
  },
  {
   "cell_type": "code",
   "execution_count": null,
   "metadata": {},
   "outputs": [],
   "source": []
  }
 ],
 "metadata": {
  "kernelspec": {
   "display_name": "Python 3",
   "language": "python",
   "name": "python3"
  },
  "language_info": {
   "codemirror_mode": {
    "name": "ipython",
    "version": 3
   },
   "file_extension": ".py",
   "mimetype": "text/x-python",
   "name": "python",
   "nbconvert_exporter": "python",
   "pygments_lexer": "ipython3",
   "version": "3.8.0"
  },
  "toc": {
   "base_numbering": 1,
   "nav_menu": {},
   "number_sections": false,
   "sideBar": true,
   "skip_h1_title": false,
   "title_cell": "Table of Contents",
   "title_sidebar": "Contents",
   "toc_cell": false,
   "toc_position": {},
   "toc_section_display": true,
   "toc_window_display": false
  },
  "varInspector": {
   "cols": {
    "lenName": 16,
    "lenType": 16,
    "lenVar": 40
   },
   "kernels_config": {
    "python": {
     "delete_cmd_postfix": "",
     "delete_cmd_prefix": "del ",
     "library": "var_list.py",
     "varRefreshCmd": "print(var_dic_list())"
    },
    "r": {
     "delete_cmd_postfix": ") ",
     "delete_cmd_prefix": "rm(",
     "library": "var_list.r",
     "varRefreshCmd": "cat(var_dic_list()) "
    }
   },
   "types_to_exclude": [
    "module",
    "function",
    "builtin_function_or_method",
    "instance",
    "_Feature"
   ],
   "window_display": false
  }
 },
 "nbformat": 4,
 "nbformat_minor": 2
}
