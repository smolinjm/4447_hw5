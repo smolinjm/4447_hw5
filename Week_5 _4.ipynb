{
 "cells": [
  {
   "cell_type": "markdown",
   "metadata": {},
   "source": []
  },
  {
   "cell_type": "code",
   "execution_count": null,
   "metadata": {},
   "outputs": [],
   "source": [
    "#  dupicate(pd.drop_duplicate), empty(pd.dropna)"
   ]
  },
  {
   "cell_type": "code",
   "execution_count": null,
   "metadata": {},
   "outputs": [],
   "source": [
    "# outliers"
   ]
  },
  {
   "cell_type": "code",
   "execution_count": null,
   "metadata": {},
   "outputs": [],
   "source": [
    "# Columns with multiple values"
   ]
  },
  {
   "cell_type": "code",
   "execution_count": null,
   "metadata": {},
   "outputs": [],
   "source": [
    "# values in a column or across columns not having same units"
   ]
  },
  {
   "cell_type": "code",
   "execution_count": null,
   "metadata": {},
   "outputs": [],
   "source": [
    "# non-ascii chars, whitespace, etc."
   ]
  },
  {
   "cell_type": "code",
   "execution_count": 10,
   "metadata": {},
   "outputs": [
    {
     "data": {
      "text/plain": [
       "'\\t data science    \\n'"
      ]
     },
     "execution_count": 10,
     "metadata": {},
     "output_type": "execute_result"
    }
   ],
   "source": [
    "keywords = '\\t data science    \\n'\n",
    "keywords"
   ]
  },
  {
   "cell_type": "code",
   "execution_count": 5,
   "metadata": {},
   "outputs": [
    {
     "data": {
      "text/plain": [
       "'data science'"
      ]
     },
     "execution_count": 5,
     "metadata": {},
     "output_type": "execute_result"
    }
   ],
   "source": [
    "keywords.strip()"
   ]
  },
  {
   "cell_type": "code",
   "execution_count": 7,
   "metadata": {},
   "outputs": [],
   "source": [
    "# regex\n",
    "import re\n",
    "\n",
    "#  $ end of line\n",
    "#  ^ begining of line\n",
    "#  [] to specify character class [aez], [a-z] , \n",
    "#    [^aez] negation\n",
    "#    [ab$]  special character has no special meaning\n",
    "\n",
    "#   backslash with character signal various special sequences\n",
    "#   \\d digits  \\d=[0-9]\n",
    "#   \\s whitespace    \\s=[\\t\\n\\r\\f\\v]\n",
    "\n",
    "#   *  previous character can be matched zero or more times\n",
    "#   +  repeat at least one\n",
    "#   ?  matches either once or zero times\n",
    "#   .  mathces anything except a newline character\n",
    "#   {m,n} at least m repititions and at most n.   c/{1,2}b will match 'c/b', 'c//b', but not 'cb' nor 'c///b'\n",
    "#   use backslash \\ to remove special meaning.  ex.  \\[  or  \\$  etc...\n"
   ]
  },
  {
   "cell_type": "code",
   "execution_count": 12,
   "metadata": {},
   "outputs": [
    {
     "data": {
      "text/plain": [
       "['\\t ', ' ', '    \\n']"
      ]
     },
     "execution_count": 12,
     "metadata": {},
     "output_type": "execute_result"
    }
   ],
   "source": [
    "re.findall(r'\\s+', keywords)"
   ]
  },
  {
   "cell_type": "code",
   "execution_count": 13,
   "metadata": {},
   "outputs": [
    {
     "data": {
      "text/plain": [
       "['\\t ', ' ', '    \\n']"
      ]
     },
     "execution_count": 13,
     "metadata": {},
     "output_type": "execute_result"
    }
   ],
   "source": [
    "# regex OBJECT\n",
    "regex = re.compile(r'\\s+')\n",
    "regex.findall(keywords)"
   ]
  },
  {
   "cell_type": "code",
   "execution_count": 14,
   "metadata": {},
   "outputs": [
    {
     "data": {
      "text/plain": [
       "['', 'data', 'science', '']"
      ]
     },
     "execution_count": 14,
     "metadata": {},
     "output_type": "execute_result"
    }
   ],
   "source": [
    "re.split(r'\\s+',keywords)"
   ]
  },
  {
   "cell_type": "code",
   "execution_count": 15,
   "metadata": {},
   "outputs": [
    {
     "data": {
      "text/plain": [
       "['', 'data', 'science', '']"
      ]
     },
     "execution_count": 15,
     "metadata": {},
     "output_type": "execute_result"
    }
   ],
   "source": [
    "regex.split(keywords)"
   ]
  },
  {
   "cell_type": "code",
   "execution_count": null,
   "metadata": {},
   "outputs": [],
   "source": [
    "# re.ignorecase()"
   ]
  },
  {
   "cell_type": "code",
   "execution_count": 20,
   "metadata": {},
   "outputs": [
    {
     "data": {
      "text/html": [
       "<div>\n",
       "<style scoped>\n",
       "    .dataframe tbody tr th:only-of-type {\n",
       "        vertical-align: middle;\n",
       "    }\n",
       "\n",
       "    .dataframe tbody tr th {\n",
       "        vertical-align: top;\n",
       "    }\n",
       "\n",
       "    .dataframe thead th {\n",
       "        text-align: right;\n",
       "    }\n",
       "</style>\n",
       "<table border=\"1\" class=\"dataframe\">\n",
       "  <thead>\n",
       "    <tr style=\"text-align: right;\">\n",
       "      <th></th>\n",
       "      <th>Method/Attribute</th>\n",
       "      <th>Purpose</th>\n",
       "    </tr>\n",
       "  </thead>\n",
       "  <tbody>\n",
       "    <tr>\n",
       "      <th>0</th>\n",
       "      <td>match()</td>\n",
       "      <td>Determine if the RE matches at the beginning of the string.</td>\n",
       "    </tr>\n",
       "    <tr>\n",
       "      <th>1</th>\n",
       "      <td>search()</td>\n",
       "      <td>Scan through a string, looking for any location where this RE matches.</td>\n",
       "    </tr>\n",
       "    <tr>\n",
       "      <th>2</th>\n",
       "      <td>findall()</td>\n",
       "      <td>Find all substrings where the RE matches, and returns them as a list.</td>\n",
       "    </tr>\n",
       "    <tr>\n",
       "      <th>3</th>\n",
       "      <td>finditer()</td>\n",
       "      <td>Find all substrings where the RE matches, and returns them as an iterator.</td>\n",
       "    </tr>\n",
       "  </tbody>\n",
       "</table>\n",
       "</div>"
      ],
      "text/plain": [
       "  Method/Attribute  \\\n",
       "0          match()   \n",
       "1         search()   \n",
       "2        findall()   \n",
       "3       finditer()   \n",
       "\n",
       "                                                                      Purpose  \n",
       "0                 Determine if the RE matches at the beginning of the string.  \n",
       "1      Scan through a string, looking for any location where this RE matches.  \n",
       "2       Find all substrings where the RE matches, and returns them as a list.  \n",
       "3  Find all substrings where the RE matches, and returns them as an iterator.  "
      ]
     },
     "execution_count": 20,
     "metadata": {},
     "output_type": "execute_result"
    }
   ],
   "source": [
    "import pandas as pd\n",
    "\n",
    "pd.set_option('max_colwidth',100)\n",
    "\n",
    "pd.read_html('https://docs.python.org/3/howto/regex.html')[3]   #<-- table number"
   ]
  },
  {
   "cell_type": "code",
   "execution_count": 21,
   "metadata": {},
   "outputs": [],
   "source": [
    "keywords = \"\\r\\nappature\\t \\n\\n science\\n\""
   ]
  },
  {
   "cell_type": "code",
   "execution_count": 22,
   "metadata": {},
   "outputs": [
    {
     "data": {
      "text/plain": [
       "['appature', 'science']"
      ]
     },
     "execution_count": 22,
     "metadata": {},
     "output_type": "execute_result"
    }
   ],
   "source": [
    "re.split(r'\\s+',keywords.strip())"
   ]
  },
  {
   "cell_type": "code",
   "execution_count": 23,
   "metadata": {},
   "outputs": [
    {
     "name": "stdout",
     "output_type": "stream",
     "text": [
      "From: author@example.com\n",
      "User-Agent: Thunderbird 1.5.0.9 (X11/20061227)\n",
      "MIME-Version: 1.0\n"
     ]
    }
   ],
   "source": [
    "text = \"\"\"From: author@example.com\n",
    "User-Agent: Thunderbird 1.5.0.9 (X11/20061227)\n",
    "MIME-Version: 1.0\"\"\"\n",
    "print(text)"
   ]
  },
  {
   "cell_type": "code",
   "execution_count": 24,
   "metadata": {},
   "outputs": [
    {
     "data": {
      "text/plain": [
       "[('From', ' author@example.com'),\n",
       " ('User-Agent', ' Thunderbird 1.5.0.9 (X11/20061227)'),\n",
       " ('MIME-Version', ' 1.0')]"
      ]
     },
     "execution_count": 24,
     "metadata": {},
     "output_type": "execute_result"
    }
   ],
   "source": [
    "regex = re.compile(r'(.*):(.*)')\n",
    "regex.findall(text)"
   ]
  },
  {
   "cell_type": "code",
   "execution_count": 29,
   "metadata": {},
   "outputs": [],
   "source": [
    "text = \"\"\"Dave dave@gmail.com\n",
    "Steve steve@hotmail.com\n",
    "Rob rob@yahoo.com\n",
    "Ryan ryan@earthlink.com\"\"\""
   ]
  },
  {
   "cell_type": "code",
   "execution_count": 30,
   "metadata": {},
   "outputs": [
    {
     "data": {
      "text/plain": [
       "['dave@gmail.com', 'steve@hotmail.com', 'rob@yahoo.com', 'ryan@earthlink.com']"
      ]
     },
     "execution_count": 30,
     "metadata": {},
     "output_type": "execute_result"
    }
   ],
   "source": [
    "pattern = r'[A-Z0-9]+@[A-Z0-9]+[.][A-Z]{2,3}'\n",
    "regex = re.compile(pattern, flags=re.IGNORECASE)\n",
    "\n",
    "regex.findall(text)"
   ]
  },
  {
   "cell_type": "code",
   "execution_count": 31,
   "metadata": {},
   "outputs": [
    {
     "name": "stdout",
     "output_type": "stream",
     "text": [
      "<re.Match object; span=(5, 19), match='dave@gmail.com'>\n",
      "<re.Match object; span=(26, 43), match='steve@hotmail.com'>\n",
      "<re.Match object; span=(48, 61), match='rob@yahoo.com'>\n",
      "<re.Match object; span=(67, 85), match='ryan@earthlink.com'>\n"
     ]
    },
    {
     "data": {
      "text/plain": [
       "['__class__',\n",
       " '__copy__',\n",
       " '__deepcopy__',\n",
       " '__delattr__',\n",
       " '__dir__',\n",
       " '__doc__',\n",
       " '__eq__',\n",
       " '__format__',\n",
       " '__ge__',\n",
       " '__getattribute__',\n",
       " '__getitem__',\n",
       " '__gt__',\n",
       " '__hash__',\n",
       " '__init__',\n",
       " '__init_subclass__',\n",
       " '__le__',\n",
       " '__lt__',\n",
       " '__ne__',\n",
       " '__new__',\n",
       " '__reduce__',\n",
       " '__reduce_ex__',\n",
       " '__repr__',\n",
       " '__setattr__',\n",
       " '__sizeof__',\n",
       " '__str__',\n",
       " '__subclasshook__',\n",
       " 'end',\n",
       " 'endpos',\n",
       " 'expand',\n",
       " 'group',\n",
       " 'groupdict',\n",
       " 'groups',\n",
       " 'lastgroup',\n",
       " 'lastindex',\n",
       " 'pos',\n",
       " 're',\n",
       " 'regs',\n",
       " 'span',\n",
       " 'start',\n",
       " 'string']"
      ]
     },
     "execution_count": 31,
     "metadata": {},
     "output_type": "execute_result"
    }
   ],
   "source": [
    "for email in regex.finditer(text):\n",
    "    print(email)\n",
    "dir(email)"
   ]
  },
  {
   "cell_type": "code",
   "execution_count": null,
   "metadata": {},
   "outputs": [],
   "source": [
    "# Methods supported by match object\n",
    "\n",
    "#  group()\n",
    "#  start()   starting position of match\n",
    "#  end()     ending pos of match\n",
    "#  span()    start and end as tuple\n",
    "\n"
   ]
  },
  {
   "cell_type": "code",
   "execution_count": 32,
   "metadata": {},
   "outputs": [
    {
     "name": "stdout",
     "output_type": "stream",
     "text": [
      "dave@gmail.com\n",
      "steve@hotmail.com\n",
      "rob@yahoo.com\n",
      "ryan@earthlink.com\n"
     ]
    }
   ],
   "source": [
    "for email in regex.finditer(text):\n",
    "    print(email.group())"
   ]
  },
  {
   "cell_type": "code",
   "execution_count": 33,
   "metadata": {},
   "outputs": [
    {
     "data": {
      "text/plain": [
       "'Dave removed\\nSteve removed\\nRob removed\\nRyan removed'"
      ]
     },
     "execution_count": 33,
     "metadata": {},
     "output_type": "execute_result"
    }
   ],
   "source": [
    "# cont... REPLACE STRING\n",
    "\n",
    "# split\n",
    "# sub\n",
    "# subn\n",
    "# modify\n",
    "\n",
    "\n",
    "regex.sub('removed',text)"
   ]
  },
  {
   "cell_type": "code",
   "execution_count": null,
   "metadata": {},
   "outputs": [],
   "source": []
  },
  {
   "cell_type": "markdown",
   "metadata": {},
   "source": [
    "<br><br><br><font size=10>5.4.2</font>"
   ]
  },
  {
   "cell_type": "code",
   "execution_count": null,
   "metadata": {},
   "outputs": [],
   "source": [
    "# STRING FUNCTIONS IN PANDAS"
   ]
  },
  {
   "cell_type": "code",
   "execution_count": 34,
   "metadata": {},
   "outputs": [
    {
     "data": {
      "text/plain": [
       "0        dave@gmail.com\n",
       "1     steve@hotmail.com\n",
       "2         rob@yahoo.com\n",
       "3    ryan@earthlink.com\n",
       "4                   NaN\n",
       "dtype: object"
      ]
     },
     "execution_count": 34,
     "metadata": {},
     "output_type": "execute_result"
    }
   ],
   "source": [
    "import numpy as np\n",
    "\n",
    "email_addresses = pd.Series(regex.findall(text)+[np.nan])\n",
    "email_addresses"
   ]
  },
  {
   "cell_type": "code",
   "execution_count": 36,
   "metadata": {},
   "outputs": [],
   "source": [
    "#  email_addresses.map(lambda x: 'gmail' in x)\n",
    "\n",
    "# NaN with cause error"
   ]
  },
  {
   "cell_type": "code",
   "execution_count": 37,
   "metadata": {},
   "outputs": [
    {
     "data": {
      "text/plain": [
       "0     True\n",
       "1    False\n",
       "2    False\n",
       "3    False\n",
       "4      NaN\n",
       "dtype: object"
      ]
     },
     "execution_count": 37,
     "metadata": {},
     "output_type": "execute_result"
    }
   ],
   "source": [
    "match = email_addresses.str.contains('gmail')\n",
    "match"
   ]
  },
  {
   "cell_type": "code",
   "execution_count": 40,
   "metadata": {},
   "outputs": [
    {
     "data": {
      "text/plain": [
       "0        [(dave, gmail, com)]\n",
       "1     [(steve, hotmail, com)]\n",
       "2         [(rob, yahoo, com)]\n",
       "3    [(ryan, earthlink, com)]\n",
       "4                         NaN\n",
       "dtype: object"
      ]
     },
     "execution_count": 40,
     "metadata": {},
     "output_type": "execute_result"
    }
   ],
   "source": [
    "# to split email address into username, domain name, suffix\n",
    "\n",
    "pattern = r'([A-Z0-9]+)@([A-Z0-9]+)\\.([A-Z]{2,4})'\n",
    "email_addresses.str.findall(pattern, flags=re.IGNORECASE)"
   ]
  },
  {
   "cell_type": "code",
   "execution_count": 42,
   "metadata": {},
   "outputs": [
    {
     "data": {
      "text/plain": [
       "0    dave\n",
       "1    stev\n",
       "2    rob@\n",
       "3    ryan\n",
       "4     NaN\n",
       "dtype: object"
      ]
     },
     "execution_count": 42,
     "metadata": {},
     "output_type": "execute_result"
    }
   ],
   "source": [
    "email_addresses.str[:4]"
   ]
  },
  {
   "cell_type": "code",
   "execution_count": null,
   "metadata": {},
   "outputs": [],
   "source": []
  },
  {
   "cell_type": "code",
   "execution_count": null,
   "metadata": {},
   "outputs": [],
   "source": []
  }
 ],
 "metadata": {
  "kernelspec": {
   "display_name": "Python 3",
   "language": "python",
   "name": "python3"
  },
  "language_info": {
   "codemirror_mode": {
    "name": "ipython",
    "version": 3
   },
   "file_extension": ".py",
   "mimetype": "text/x-python",
   "name": "python",
   "nbconvert_exporter": "python",
   "pygments_lexer": "ipython3",
   "version": "3.8.5"
  }
 },
 "nbformat": 4,
 "nbformat_minor": 4
}
